{
 "cells": [
  {
   "cell_type": "code",
   "execution_count": null,
   "metadata": {},
   "outputs": [],
   "source": [
    "import os\n",
    "\n",
    "def count_files(directory):\n",
    "    total_files = 0\n",
    "    for root, dirs, files in os.walk(directory):\n",
    "        total_files += len(files)\n",
    "    return total_files\n",
    "\n",
    "directory_path = \"/home/olisvalue/contests/baseline/data/test\"  # Замените на путь к вашей директории\n",
    "total_files = count_files(directory_path)\n",
    "print(f\"Total number of files: {total_files}\")\n"
   ]
  },
  {
   "cell_type": "code",
   "execution_count": 23,
   "metadata": {},
   "outputs": [],
   "source": [
    "!git add ."
   ]
  },
  {
   "cell_type": "code",
   "execution_count": 24,
   "metadata": {},
   "outputs": [
    {
     "name": "stdout",
     "output_type": "stream",
     "text": [
      "[augmentations dbe253b] fixed augmentations\n",
      " 10 files changed, 883 insertions(+), 900 deletions(-)\n",
      " rewrite models/__pycache__/data_loader.cpython-310.pyc (60%)\n",
      " rewrite trash.ipynb (77%)\n"
     ]
    }
   ],
   "source": [
    "!git commit -m \"fixed augmentations\""
   ]
  },
  {
   "cell_type": "code",
   "execution_count": null,
   "metadata": {},
   "outputs": [],
   "source": [
    "!git push origin coverhunter"
   ]
  },
  {
   "cell_type": "code",
   "execution_count": null,
   "metadata": {},
   "outputs": [],
   "source": [
    "!nvidia-smi"
   ]
  },
  {
   "cell_type": "code",
   "execution_count": null,
   "metadata": {},
   "outputs": [],
   "source": [
    "model"
   ]
  },
  {
   "cell_type": "code",
   "execution_count": null,
   "metadata": {},
   "outputs": [],
   "source": [
    "def dataloader_factory(config: Dict, data_split: str) -> List[DataLoader]:\n",
    "    return cover_dataloader(\n",
    "        data_path=config[\"data_path\"],\n",
    "        file_ext=config[\"file_extension\"],\n",
    "        #dataset_path=config[data_split][\"dataset_path\"],\n",
    "        data_split=data_split,\n",
    "        debug=config[\"debug\"],\n",
    "        max_len=50,\n",
    "        **config[data_split]\n",
    "    )"
   ]
  },
  {
   "cell_type": "code",
   "execution_count": 1,
   "metadata": {},
   "outputs": [
    {
     "name": "stderr",
     "output_type": "stream",
     "text": [
      "2024-11-02 16:46:52,382 INFO This log message will be sent to wandb!\n"
     ]
    },
    {
     "ename": "TypeError",
     "evalue": "CoverDataset.__init__() missing 1 required positional argument: 'config'",
     "output_type": "error",
     "traceback": [
      "\u001b[0;31m---------------------------------------------------------------------------\u001b[0m",
      "\u001b[0;31mTypeError\u001b[0m                                 Traceback (most recent call last)",
      "Cell \u001b[0;32mIn[1], line 7\u001b[0m\n\u001b[1;32m      3\u001b[0m \u001b[38;5;28;01mfrom\u001b[39;00m \u001b[38;5;21;01mutils\u001b[39;00m \u001b[38;5;28;01mimport\u001b[39;00m initialize_logging, load_config\n\u001b[1;32m      5\u001b[0m config \u001b[38;5;241m=\u001b[39m load_config(config_path\u001b[38;5;241m=\u001b[39m\u001b[38;5;124m\"\u001b[39m\u001b[38;5;124m./config/config.yaml\u001b[39m\u001b[38;5;124m\"\u001b[39m)\n\u001b[0;32m----> 7\u001b[0m data \u001b[38;5;241m=\u001b[39m \u001b[43mCoverDataset\u001b[49m\u001b[43m(\u001b[49m\n\u001b[1;32m      8\u001b[0m \u001b[43m    \u001b[49m\u001b[43mdata_path\u001b[49m\u001b[38;5;241;43m=\u001b[39;49m\u001b[43mconfig\u001b[49m\u001b[43m[\u001b[49m\u001b[38;5;124;43m\"\u001b[39;49m\u001b[38;5;124;43mdata_path\u001b[39;49m\u001b[38;5;124;43m\"\u001b[39;49m\u001b[43m]\u001b[49m\u001b[43m,\u001b[49m\n\u001b[1;32m      9\u001b[0m \u001b[43m    \u001b[49m\u001b[43mfile_ext\u001b[49m\u001b[38;5;241;43m=\u001b[39;49m\u001b[43mconfig\u001b[49m\u001b[43m[\u001b[49m\u001b[38;5;124;43m\"\u001b[39;49m\u001b[38;5;124;43mfile_extension\u001b[39;49m\u001b[38;5;124;43m\"\u001b[39;49m\u001b[43m]\u001b[49m\u001b[43m,\u001b[49m\n\u001b[1;32m     10\u001b[0m \u001b[43m    \u001b[49m\u001b[43mdata_split\u001b[49m\u001b[38;5;241;43m=\u001b[39;49m\u001b[38;5;124;43m'\u001b[39;49m\u001b[38;5;124;43mtrain\u001b[39;49m\u001b[38;5;124;43m'\u001b[39;49m\u001b[43m,\u001b[49m\n\u001b[1;32m     11\u001b[0m \u001b[43m    \u001b[49m\u001b[43mdebug\u001b[49m\u001b[38;5;241;43m=\u001b[39;49m\u001b[43mconfig\u001b[49m\u001b[43m[\u001b[49m\u001b[38;5;124;43m\"\u001b[39;49m\u001b[38;5;124;43mdebug\u001b[39;49m\u001b[38;5;124;43m\"\u001b[39;49m\u001b[43m]\u001b[49m\u001b[43m,\u001b[49m\n\u001b[1;32m     12\u001b[0m \u001b[43m    \u001b[49m\u001b[43mmax_len\u001b[49m\u001b[38;5;241;43m=\u001b[39;49m\u001b[38;5;241;43m50\u001b[39;49m\u001b[43m,\u001b[49m\n\u001b[1;32m     13\u001b[0m \u001b[43m    \u001b[49m\u001b[43mdataset_path\u001b[49m\u001b[38;5;241;43m=\u001b[39;49m\u001b[38;5;124;43m\"\u001b[39;49m\u001b[38;5;124;43m/home/olisvalue/contests/baseline/data/train\u001b[39;49m\u001b[38;5;124;43m\"\u001b[39;49m\u001b[43m)\u001b[49m\n",
      "\u001b[0;31mTypeError\u001b[0m: CoverDataset.__init__() missing 1 required positional argument: 'config'"
     ]
    }
   ],
   "source": [
    "from models.data_loader import *\n",
    "from models.train_module import TrainModule\n",
    "from utils import initialize_logging, load_config\n",
    "\n",
    "config = load_config(config_path=\"./config/config.yaml\")\n",
    "\n",
    "data = CoverDataset(\n",
    "    data_path=config[\"data_path\"],\n",
    "    file_ext=config[\"file_extension\"],\n",
    "    data_split='train',\n",
    "    debug=config[\"debug\"],\n",
    "    max_len=50,\n",
    "    dataset_path=\"/home/olisvalue/contests/baseline/data/train\"),\n"
   ]
  },
  {
   "cell_type": "code",
   "execution_count": null,
   "metadata": {},
   "outputs": [],
   "source": [
    "data[10]"
   ]
  },
  {
   "cell_type": "code",
   "execution_count": null,
   "metadata": {},
   "outputs": [],
   "source": [
    "class zero:\n",
    "    def item(self):\n",
    "        return 0"
   ]
  },
  {
   "cell_type": "code",
   "execution_count": null,
   "metadata": {},
   "outputs": [],
   "source": [
    "import os\n",
    "import torch\n",
    "\n",
    "def save_data_dynamically(data, root_dir='train'):\n",
    "    \"\"\"\n",
    "    Сохраняет данные динамически, организуя их по структуре anchor_label/anchor_id.pt.\n",
    "    \n",
    "    Параметры:\n",
    "    - data: исходный датасет, состоящий из элементов с полями 'anchor_id', 'anchor', 'anchor_label', 'positive', 'negative'.\n",
    "    - root_dir: корневая директория для сохранения данных.\n",
    "    \"\"\"\n",
    "    # Создание корневой директории\n",
    "    os.makedirs(root_dir, exist_ok=True)\n",
    "    \n",
    "    for item in data:\n",
    "        # Извлекаем anchor_label и anchor_id\n",
    "        anchor_label = int(item['anchor_label'].item())\n",
    "        anchor_id = item['anchor_id']\n",
    "        \n",
    "        # Создаем директорию для текущей метки, если она еще не существует\n",
    "        label_dir = os.path.join(root_dir, str(anchor_label))\n",
    "        os.makedirs(label_dir, exist_ok=True)\n",
    "        \n",
    "        # Формируем путь к файлу для anchor и сохраняем его\n",
    "        anchor_file_path = os.path.join(label_dir, f\"{anchor_id}.pt\")\n",
    "        torch.save(item['anchor'], anchor_file_path)\n",
    "        \n",
    "        # Можно добавить аналогичное сохранение для positive и negative, если требуется\n",
    "        positive_id = item.get('positive_id')\n",
    "        negative_id = item.get('negative_id')\n",
    "        \n",
    "        if positive_id:\n",
    "            positive_file_path = os.path.join(label_dir, f\"{positive_id}_positive.pt\")\n",
    "            torch.save(item['positive'], positive_file_path)\n",
    "        \n",
    "        if negative_id:\n",
    "            negative_file_path = os.path.join(label_dir, f\"{negative_id}_negative.pt\")\n",
    "            torch.save(item['negative'], negative_file_path)\n",
    "\n",
    "# Пример вызова функции\n",
    "# save_data_dynamically(data)\n"
   ]
  },
  {
   "cell_type": "code",
   "execution_count": null,
   "metadata": {},
   "outputs": [],
   "source": [
    "from collections import defaultdict\n",
    "\n",
    "# Инициализируем словарь для подсчета треков в каждой клике\n",
    "clique_counts = defaultdict(int)\n",
    "\n",
    "# Проходим по каждому объекту в `CoverDataset` и считаем клики\n",
    "for item in data:\n",
    "    clique_id = int(item['anchor_label'].item())\n",
    "    clique_counts[clique_id] += 1\n",
    "\n",
    "# Подсчитываем общее количество уникальных клик\n",
    "total_cliques = len(clique_counts)\n",
    "\n",
    "# Находим минимальный, максимальный размер клики и дисперсию\n",
    "clique_sizes = list(clique_counts.values())\n",
    "min_clique_size = min(clique_sizes)\n",
    "max_clique_size = max(clique_sizes)\n",
    "std_dev_clique_size = np.std(clique_sizes)\n",
    "\n",
    "print(f\"Всего клик: {total_cliques}\")\n",
    "print(f\"Минимальный размер клики: {min_clique_size}\")\n",
    "print(f\"Максимальный размер клики: {max_clique_size}\")\n",
    "print(f\"Среднеквадратичное отклонение размеров клик: {std_dev_clique_size}\")\n"
   ]
  },
  {
   "cell_type": "code",
   "execution_count": null,
   "metadata": {},
   "outputs": [],
   "source": [
    "np.mean(clique_sizes)"
   ]
  },
  {
   "cell_type": "code",
   "execution_count": null,
   "metadata": {},
   "outputs": [],
   "source": []
  },
  {
   "cell_type": "code",
   "execution_count": null,
   "metadata": {},
   "outputs": [],
   "source": [
    "import random\n",
    "\n",
    "# Выбираем случайный clique_id\n",
    "random_clique_id = random.choice(list(clique_counts.keys()))\n",
    "\n",
    "# Собираем все треки из выбранной клики\n",
    "sample_from_clique = [item for item in data if int(item['anchor_label'].item()) == random_clique_id]\n",
    "\n",
    "# Выбираем 10 объектов для анализа\n",
    "sample_from_clique = random.sample(sample_from_clique, min(10, len(sample_from_clique)))\n",
    "\n",
    "print(f\"Случайно выбранная клика ID: {random_clique_id}\")\n",
    "print(\"Треки из этой клики (ID объектов):\", [obj['anchor_id'] for obj in sample_from_clique])\n"
   ]
  },
  {
   "cell_type": "code",
   "execution_count": null,
   "metadata": {},
   "outputs": [],
   "source": []
  },
  {
   "cell_type": "code",
   "execution_count": null,
   "metadata": {},
   "outputs": [],
   "source": [
    "0.9975**20"
   ]
  },
  {
   "cell_type": "code",
   "execution_count": null,
   "metadata": {},
   "outputs": [],
   "source": [
    "# Выбираем 10 объектов для анализа\n",
    "sample_from_clique = random.sample(sample_from_clique, min(10, len(sample_from_clique)))\n",
    "\n",
    "print(f\"Случайно выбранная клика ID: {random_clique_id}\")\n",
    "print(\"Треки из этой клики (ID объектов):\", [obj['anchor_id'] for obj in sample_from_clique])"
   ]
  },
  {
   "cell_type": "code",
   "execution_count": null,
   "metadata": {},
   "outputs": [],
   "source": [
    "import matplotlib.pyplot as plt\n",
    "\n",
    "fig, axs = plt.subplots(2, 5, figsize=(15, 6))\n",
    "\n",
    "for i, item in enumerate(sample_from_clique[:10]):\n",
    "    cqt_spectrogram = item['anchor'].numpy()  # Получаем данные спектрограммы\n",
    "    \n",
    "    ax = axs[i // 5, i % 5]\n",
    "    ax.imshow(cqt_spectrogram, aspect='auto', origin='lower')\n",
    "    ax.set_title(f\"ID: {item['anchor_id']}\")\n",
    "    ax.axis('off')\n",
    "\n",
    "plt.suptitle(f\"CQT-спектрограммы треков из клики {random_clique_id}\")\n",
    "plt.show()\n"
   ]
  },
  {
   "cell_type": "code",
   "execution_count": null,
   "metadata": {},
   "outputs": [],
   "source": [
    "import random\n",
    "import matplotlib.pyplot as plt\n",
    "\n",
    "# Выбираем случайный clique_id из данных\n",
    "# random_clique_id = random.choice(list(clique_counts.keys()))\n",
    "\n",
    "# # Извлекаем все треки (анкор и их негативы) из выбранной клики\n",
    "# tracks_in_clique = [item for item in data if int(item['anchor_label'].item()) == random_clique_id]\n",
    "\n",
    "# Выбираем 5 треков для визуализации (или все, если в клике меньше 5 треков)\n",
    "# sample_tracks = random.sample(tracks_in_clique, min(5, len(tracks_in_clique)))\n",
    "\n",
    "fig, axs = plt.subplots(2, len(sample_from_clique), figsize=(15, 6))\n",
    "\n",
    "for i, item in enumerate(sample_from_clique):\n",
    "    # Извлекаем CQT-спектрограммы для anchor и negative\n",
    "    anchor_spectrogram = item['anchor'].numpy()\n",
    "    negative_spectrogram = item['negative'].numpy()\n",
    "    \n",
    "    # Отображаем спектрограмму anchor\n",
    "    ax_anchor = axs[0, i]\n",
    "    ax_anchor.imshow(anchor_spectrogram, aspect='auto', origin='lower')\n",
    "    ax_anchor.set_title(f\"Anchor ID: {item['anchor_id']}\")\n",
    "    ax_anchor.axis('off')\n",
    "\n",
    "    # Отображаем спектрограмму negative\n",
    "    ax_negative = axs[1, i]\n",
    "    ax_negative.imshow(negative_spectrogram, aspect='auto', origin='lower')\n",
    "    ax_negative.set_title(f\"Negative ID: {item['negative_id']}\")\n",
    "    ax_negative.axis('off')\n",
    "\n",
    "# Добавляем общие заголовки\n",
    "plt.suptitle(f\"CQT-спектрограммы Anchor и Negative для клики {random_clique_id}\")\n",
    "plt.show()"
   ]
  },
  {
   "cell_type": "code",
   "execution_count": null,
   "metadata": {},
   "outputs": [],
   "source": []
  },
  {
   "cell_type": "code",
   "execution_count": null,
   "metadata": {},
   "outputs": [],
   "source": []
  },
  {
   "cell_type": "code",
   "execution_count": null,
   "metadata": {},
   "outputs": [],
   "source": [
    "from models.modules import Bottleneck, Resnet50, TransformerEncoderModel\n",
    "model = Resnet50(\n",
    "            Bottleneck,\n",
    "            num_channels=1,\n",
    "            num_classes=39535,\n",
    "            dropout=0.1\n",
    "        )\n",
    "model.to('cuda:0')\n",
    "\n",
    "\n",
    "# out = model.forward(data[10]['anchor'].unsqueeze(0).to('cuda:0'))"
   ]
  },
  {
   "cell_type": "code",
   "execution_count": null,
   "metadata": {},
   "outputs": [],
   "source": [
    "model"
   ]
  },
  {
   "cell_type": "code",
   "execution_count": null,
   "metadata": {},
   "outputs": [],
   "source": [
    "model.eval()\n",
    "out = model.forward(data[10]['anchor'].unsqueeze(0).to('cuda:0'))"
   ]
  },
  {
   "cell_type": "code",
   "execution_count": null,
   "metadata": {},
   "outputs": [],
   "source": []
  },
  {
   "cell_type": "code",
   "execution_count": null,
   "metadata": {},
   "outputs": [],
   "source": [
    "from models.new_modules import Model\n",
    "from utils import load_config\n",
    "\n",
    "config = load_config(config_path=\"./config/config.yaml\")\n",
    "\n",
    "model = Model(config).to(device='cuda:0')"
   ]
  },
  {
   "cell_type": "code",
   "execution_count": null,
   "metadata": {},
   "outputs": [],
   "source": [
    "import torch\n",
    "checkpoint = torch.load(\"/home/olisvalue/contests/baseline/CoverHunter/pretrain_model/pt_model/g_00000040\")[\"generator\"]\n",
    "\n",
    "ignore_list = [\"_global_cmvn.weight\", \"_global_cmvn.bias\", \"_global_cmvn.running_mean\",\n",
    "               \"_global_cmvn.running_var\", \"_encoder.embed.out.0.weight\", \"_bottleneck.weight\",\n",
    "               \"_bottleneck.bias\", \"_bottleneck.running_mean\", \"_bottleneck.running_var\",\n",
    "               \"_pool_layer._final_layer.weight\", \"_ce_layer.weight\"]\n",
    "\n",
    "for name in tuple(checkpoint.keys()):\n",
    "    if name in ignore_list:\n",
    "        print(f\"{name} was deleted\")\n",
    "        checkpoint.pop(name, None)\n",
    "     \n",
    "\n",
    "out = model.load_state_dict(checkpoint, strict=False)\n",
    "for item in out:\n",
    "    print(item)\n"
   ]
  },
  {
   "cell_type": "code",
   "execution_count": null,
   "metadata": {},
   "outputs": [],
   "source": [
    "for param in model.parameters():\n",
    "    param.requires_grad = False"
   ]
  },
  {
   "cell_type": "code",
   "execution_count": null,
   "metadata": {},
   "outputs": [],
   "source": [
    "for param in model.parameters():\n",
    "    print(param.requires_grad)"
   ]
  },
  {
   "cell_type": "code",
   "execution_count": null,
   "metadata": {},
   "outputs": [],
   "source": [
    "for item in out[0]:\n",
    "    if item not in ignore_list:\n",
    "        print(item)\n"
   ]
  },
  {
   "cell_type": "code",
   "execution_count": null,
   "metadata": {},
   "outputs": [],
   "source": [
    "checkpoint.keys()"
   ]
  },
  {
   "cell_type": "code",
   "execution_count": null,
   "metadata": {},
   "outputs": [],
   "source": [
    "ingore_list = [\"_global_cmvn.weight\", \"_global_cmvn.bias\", \"_global_cmvn.running_mean\",\n",
    "               \"_global_cmvn.running_var\", \"_encoder.embed.out.0.weight\", \"_bottleneck.weight\",\n",
    "               \"_bottleneck.bias\", \"_bottleneck.running_mean\", \"_bottleneck.running_var\",\n",
    "               \"_pool_layer._final_layer.weight\", \" _ce_layer.weight\"]"
   ]
  },
  {
   "cell_type": "code",
   "execution_count": null,
   "metadata": {},
   "outputs": [],
   "source": [
    "checkpoint['generator']"
   ]
  },
  {
   "cell_type": "code",
   "execution_count": null,
   "metadata": {},
   "outputs": [],
   "source": [
    "model"
   ]
  },
  {
   "cell_type": "code",
   "execution_count": null,
   "metadata": {},
   "outputs": [],
   "source": [
    "out"
   ]
  },
  {
   "cell_type": "code",
   "execution_count": null,
   "metadata": {},
   "outputs": [],
   "source": [
    "out[0], len(out[0])"
   ]
  },
  {
   "cell_type": "code",
   "execution_count": null,
   "metadata": {},
   "outputs": [],
   "source": [
    "out[0], len(out[0])"
   ]
  },
  {
   "cell_type": "code",
   "execution_count": 1,
   "metadata": {},
   "outputs": [],
   "source": [
    "from models.data_loader import *\n",
    "from utils import load_config\n",
    "\n",
    "config = load_config(config_path=\"./config/config.yaml\")\n",
    "\n",
    "data = CoverDataset(\n",
    "    data_path=config[\"data_path\"],\n",
    "    file_ext=config[\"file_extension\"],\n",
    "    data_split='train',\n",
    "    debug=config[\"debug\"],\n",
    "    max_len=50,\n",
    "    dataset_path=\"/home/olisvalue/contests/baseline/data/train\",\n",
    "    config=config)"
   ]
  },
  {
   "cell_type": "code",
   "execution_count": 2,
   "metadata": {},
   "outputs": [],
   "source": [
    "data.set_chunk_len(30)"
   ]
  },
  {
   "cell_type": "code",
   "execution_count": 17,
   "metadata": {},
   "outputs": [
    {
     "name": "stdout",
     "output_type": "stream",
     "text": [
      "[[-24.769323 -32.115242 -26.256023 ... -37.123318 -34.172523 -34.105995]\n",
      " [-31.199974 -24.081697 -26.822739 ... -36.898    -31.49374  -23.903938]\n",
      " [-32.777267 -21.90285  -27.72672  ... -34.705605 -37.62042  -24.503996]\n",
      " ...\n",
      " [-27.469755 -20.365913 -31.85094  ... -26.157438 -32.725983 -26.489346]\n",
      " [-28.320383 -23.709223 -30.797356 ... -31.381298 -33.58316  -31.42442 ]\n",
      " [-31.634373 -27.52757  -32.61228  ... -32.56297  -27.945152 -20.00991 ]]\n"
     ]
    }
   ],
   "source": [
    "print(item)"
   ]
  },
  {
   "cell_type": "code",
   "execution_count": 17,
   "metadata": {},
   "outputs": [
    {
     "data": {
      "image/png": "[encoded data removed]",
      "text/plain": [
       "<Figure size 1200x600 with 4 Axes>"
      ]
     },
     "metadata": {},
     "output_type": "display_data"
    }
   ],
   "source": [
    "from matplotlib import pyplot as plt\n",
    "\n",
    "index = 32\n",
    "\n",
    "# Вычисляем vmin и vmax на основе немаскированной спектрограммы\n",
    "data.augmentations = False\n",
    "item = np.array(data[index]['anchor'])\n",
    "vmin, vmax = item.min(), item.max()\n",
    "\n",
    "# Включаем аугментацию и получаем маскированную спектрограмму\n",
    "data.augmentations = True\n",
    "item_augmented = np.array(data[index]['anchor'])\n",
    "\n",
    "# Создаем два столбца для отображения\n",
    "fig, axes = plt.subplots(1, 2, figsize=(12, 6))\n",
    "\n",
    "# Отображаем оригинальную спектрограмму\n",
    "axes[0].imshow(item.T, vmin=vmin, vmax=vmax, aspect='auto')\n",
    "axes[0].set_title(\"Original Spectrogram\")\n",
    "axes[0].set_xlabel(\"Time\")\n",
    "axes[0].set_ylabel(\"Frequency\")\n",
    "axes[0].colorbar = fig.colorbar(axes[0].images[0], ax=axes[0])\n",
    "\n",
    "# Отображаем спектрограмму с аугментацией\n",
    "axes[1].imshow(item_augmented.T, vmin=vmin, vmax=vmax, aspect='auto')\n",
    "axes[1].set_title(\"Augmented Spectrogram\")\n",
    "axes[1].set_xlabel(\"Time\")\n",
    "axes[1].set_ylabel(\"Frequency\")\n",
    "axes[1].colorbar = fig.colorbar(axes[1].images[0], ax=axes[1])\n",
    "\n",
    "# Отображаем графики\n",
    "plt.tight_layout()\n",
    "plt.show()\n"
   ]
  },
  {
   "cell_type": "code",
   "execution_count": 17,
   "metadata": {},
   "outputs": [
    {
     "ename": "SyntaxError",
     "evalue": "invalid syntax (1679233725.py, line 26)",
     "output_type": "error",
     "traceback": [
      "\u001b[0;36m  Cell \u001b[0;32mIn[17], line 26\u001b[0;36m\u001b[0m\n\u001b[0;31m    self.ram_storage = config[]\u001b[0m\n\u001b[0m                              ^\u001b[0m\n\u001b[0;31mSyntaxError\u001b[0m\u001b[0;31m:\u001b[0m invalid syntax\n"
     ]
    }
   ],
   "source": [
    "class CoverDataset(Dataset):\n",
    "    def __init__(\n",
    "        self,\n",
    "        data_path: str,\n",
    "        file_ext: str,\n",
    "        dataset_path: str,\n",
    "        data_split: Literal[\"train\", \"val\", \"test\"],\n",
    "        debug: bool,\n",
    "        max_len: int,\n",
    "        config: Dict,\n",
    "\n",
    "    ) -> None:\n",
    "        super().__init__()\n",
    "        self.config = config\n",
    "        self.augmentations = config[\"augmentations\"]\n",
    "        self.chunk_len = -1\n",
    "\n",
    "        self.data_path = data_path\n",
    "        self.file_ext = file_ext\n",
    "        self.dataset_path = dataset_path\n",
    "        self.data_split = data_split\n",
    "        self.debug = debug\n",
    "        self.max_len = max_len\n",
    "        self._load_data()\n",
    "\n",
    "        self.ram_storage = config.get(\"store_data_in_ram\", False)\n",
    "        if self.ram_storage:\n",
    "            self.all_cqt_specs = dict()\n",
    "            self._load_all_cqt()\n",
    "\n",
    "        self.rnd_indices = np.random.permutation(len(self.track_ids))\n",
    "        self.current_index = 0\n",
    "    def set_chunk_len(self, chunk_len):\n",
    "        self.chunk_len = chunk_len\n",
    "    def __len__(self) -> int:\n",
    "        return len(self.track_ids)\n",
    "\n",
    "    def __getitem__(self, index: int) -> BatchDict:\n",
    "        track_id = self.track_ids[index]\n",
    "        anchor_cqt = self._load_cqt(track_id)\n",
    "        \n",
    "        if self.data_split == \"train\":\n",
    "            clique_id = self.version2clique.loc[track_id, 'clique']\n",
    "            pos_id, neg_id = self._triplet_sampling(track_id, clique_id)        \n",
    "            positive_cqt = self._load_cqt(pos_id)\n",
    "            negative_cqt = self._load_cqt(neg_id)\n",
    "            neg_clique_id = self.version2clique.loc[neg_id, 'clique']\n",
    "        else:\n",
    "            clique_id = -1\n",
    "            neg_clique_id = -1\n",
    "            pos_id = torch.empty(0)\n",
    "            positive_cqt = torch.empty(0)\n",
    "            neg_id = torch.empty(0)\n",
    "            negative_cqt = torch.empty(0)\n",
    "        return dict(\n",
    "            anchor_id=track_id,\n",
    "            anchor=anchor_cqt,\n",
    "            anchor_label=torch.tensor(clique_id, dtype=torch.float),\n",
    "            positive_id=pos_id,\n",
    "            positive=positive_cqt,\n",
    "            negative_id=neg_id,\n",
    "            negative=negative_cqt,\n",
    "            negative_label = torch.tensor(neg_clique_id, dtype=torch.float)\n",
    "        )\n",
    "\n",
    "    def _make_file_path(self, track_id, file_ext):\n",
    "        a = track_id % 10\n",
    "        b = track_id // 10 % 10\n",
    "        c = track_id // 100 % 10\n",
    "        return os.path.join(str(c), str(b), str(a), f'{track_id}.{file_ext}')\n",
    "\n",
    "    def _triplet_sampling(self, track_id: int, clique_id: int) -> Tuple[int, int]:\n",
    "        versions = self.versions.loc[clique_id, \"versions\"]\n",
    "        pos_list = np.setdiff1d(versions, track_id)\n",
    "        pos_id = np.random.choice(pos_list, 1)[0]\n",
    "        if self.current_index >= len(self.rnd_indices):\n",
    "            self.current_index = 0\n",
    "            self.rnd_indices = np.random.permutation(len(self.track_ids))\n",
    "        neg_id = self.track_ids[self.rnd_indices[self.current_index]]\n",
    "        self.current_index += 1\n",
    "        while neg_id in versions:\n",
    "            if self.current_index >= len(self.rnd_indices):\n",
    "                self.current_index = 0\n",
    "                self.rnd_indices = np.random.permutation(len(self.track_ids))\n",
    "            neg_id = self.track_ids[self.rnd_indices[self.current_index]]\n",
    "            self.current_index += 1\n",
    "        return (pos_id, neg_id)\n",
    "\n",
    "    def _load_data(self) -> None:\n",
    "        if self.data_split in ['train', 'val']:\n",
    "            cliques_subset = np.load(os.path.join(self.data_path, \"splits\", \"{}_cliques.npy\".format(self.data_split)))\n",
    "            self.versions = pd.read_csv(\n",
    "                os.path.join(self.data_path, \"cliques2versions.tsv\"), sep='\\t', converters={\"versions\": eval}\n",
    "            )\n",
    "            self.versions = self.versions[self.versions[\"clique\"].isin(set(cliques_subset))]\n",
    "            mapping = {}\n",
    "            for k, clique in enumerate(sorted(cliques_subset)):\n",
    "                mapping[clique] = k\n",
    "            self.versions[\"clique\"] = self.versions[\"clique\"].map(lambda x: mapping[x])\n",
    "            self.versions.set_index(\"clique\", inplace=True)\n",
    "            self.version2clique = pd.DataFrame(\n",
    "                [{'version': version, 'clique': clique} for clique, row in self.versions.iterrows() for version in row['versions']]\n",
    "            ).set_index('version')\n",
    "            self.track_ids = self.version2clique.index.to_list()\n",
    "        else:\n",
    "            self.track_ids = np.load(os.path.join(self.data_path, \"splits\", \"{}_ids.npy\".format(self.data_split)))\n",
    "\n",
    "\n",
    "    def _load_all_cqt(self):\n",
    "        for track_id in self.track_ids:\n",
    "            filename = os.path.join(self.dataset_path, self._make_file_path(track_id, self.file_ext))\n",
    "            cqt_spectrogram = np.load(filename).transpose(1, 0)\n",
    "            self.all_cqt_specs[track_id] = cqt_spectrogram\n",
    "        \n",
    "    def _load_cqt(self, track_id: str) -> torch.Tensor:\n",
    "        if self.ram_storage:\n",
    "            cqt_spectrogram = self.all_cqt_specs[track_id]\n",
    "        else:\n",
    "            filename = os.path.join(self.dataset_path, self._make_file_path(track_id, self.file_ext))\n",
    "            cqt_spectrogram = np.load(filename)\n",
    "            cqt_spectrogram = cqt_spectrogram.transpose(1, 0)\n",
    "\n",
    "        if self.augmentations and self.data_split == \"train\":\n",
    "            # print(\"!!!!!!!!!!!!!!USE AUGMENTATIONS!!!!!!!!!!!!!!\")\n",
    "            cqt_spectrogram = self._apply_augmentations(cqt_spectrogram)\n",
    "\n",
    "        return torch.from_numpy(cqt_spectrogram).float()"
   ]
  },
  {
   "cell_type": "code",
   "execution_count": null,
   "metadata": {},
   "outputs": [],
   "source": [
    "from matplotlib import pyplot as plt\n",
    "data.augmentations=False\n",
    "data.augmentations=True\n",
    "item = np.array(data[20]['anchor'])\n",
    "print(item.shape)\n",
    "# factor = random.uniform(0.8,1.2)\n",
    "# factor = 0.8\n",
    "# new_item = change_tempo_cqt(item.T, 1)\n",
    "# print(new_item.shape)\n",
    "plt.imshow(item.T)"
   ]
  },
  {
   "cell_type": "code",
   "execution_count": null,
   "metadata": {},
   "outputs": [],
   "source": [
    "data.augmentations=False\n"
   ]
  },
  {
   "cell_type": "code",
   "execution_count": null,
   "metadata": {},
   "outputs": [],
   "source": [
    "import numpy as np\n",
    "from scipy.interpolate import UnivariateSpline\n",
    "\n",
    "def apply_smooth_eq(cqt_spectrogram, smoothness=5):\n",
    "    num_bins = cqt_spectrogram.shape[1]\n",
    "    x = np.linspace(0, num_bins - 1, num_bins)\n",
    "    random_points = np.random.uniform(0.5, 1.5, size=(smoothness,))\n",
    "    print(random_points)\n",
    "    spline = UnivariateSpline(np.linspace(0, num_bins - 1, smoothness), random_points, s=0)\n",
    "    eq_curve = spline(x)\n",
    "    # print(eq_curve)\n",
    "    plt.plot(eq_curve)\n",
    "    print(eq_curve.shape)\n",
    "    print(cqt_spectrogram.shape)\n",
    "    return cqt_spectrogram * eq_curve"
   ]
  },
  {
   "cell_type": "code",
   "execution_count": null,
   "metadata": {},
   "outputs": [],
   "source": [
    "item.shape"
   ]
  },
  {
   "cell_type": "code",
   "execution_count": null,
   "metadata": {},
   "outputs": [],
   "source": [
    "new_item.shape"
   ]
  },
  {
   "cell_type": "code",
   "execution_count": null,
   "metadata": {},
   "outputs": [],
   "source": [
    "new_item = apply_smooth_eq(item)\n",
    "new_item /= item\n",
    "print(new_item, new_item.shape)"
   ]
  },
  {
   "cell_type": "code",
   "execution_count": null,
   "metadata": {},
   "outputs": [],
   "source": [
    "item = np.array(data[15]['anchor'])\n",
    "# factor = random.uniform(0.8,1.2)\n",
    "factor = 0.8\n",
    "new_item = change_tempo_cqt(item.T, 1)\n",
    "print(new_item.shape)\n",
    "plt.imshow(new_item)"
   ]
  },
  {
   "cell_type": "code",
   "execution_count": null,
   "metadata": {},
   "outputs": [],
   "source": [
    "plt.imshow(cqt_spectrogram)"
   ]
  },
  {
   "cell_type": "code",
   "execution_count": null,
   "metadata": {},
   "outputs": [],
   "source": [
    "from matplotlib import pyplot as plt\n",
    "\n",
    "import matplotlib.pyplot as plt\n",
    "\n",
    "fig, axs = plt.subplots(1, 1, figsize=(15, 6))\n",
    "\n",
    "for i, item in enumerate([new_item]):\n",
    "    cqt_spectrogram = item  # Получаем данные спектрограммы\n",
    "    \n",
    "    ax = axs[i // 5, i % 5]\n",
    "    ax.imshow(cqt_spectrogram, aspect='auto', origin='lower')\n",
    "    ax.set_title(f\"ID: {item['anchor_id']}\")\n",
    "    ax.axis('off')\n",
    "\n",
    "plt.suptitle(f\"CQT-спектрограммы треков из клики {random_clique_id}\")\n",
    "plt.show()\n"
   ]
  },
  {
   "cell_type": "code",
   "execution_count": null,
   "metadata": {},
   "outputs": [],
   "source": [
    "new_item.shape"
   ]
  },
  {
   "cell_type": "code",
   "execution_count": null,
   "metadata": {},
   "outputs": [],
   "source": [
    "model.eval()\n",
    "out = model.forward(data[10]['anchor'].unsqueeze(0).to('cuda:0'))"
   ]
  },
  {
   "cell_type": "code",
   "execution_count": null,
   "metadata": {},
   "outputs": [],
   "source": [
    "out"
   ]
  }
 ],
 "metadata": {
  "kernelspec": {
   "display_name": "torchenv",
   "language": "python",
   "name": "torchenv"
  },
  "language_info": {
   "codemirror_mode": {
    "name": "ipython",
    "version": 3
   },
   "file_extension": ".py",
   "mimetype": "text/x-python",
   "name": "python",
   "nbconvert_exporter": "python",
   "pygments_lexer": "ipython3",
   "version": "3.10.12"
  }
 },
 "nbformat": 4,
 "nbformat_minor": 2
}
